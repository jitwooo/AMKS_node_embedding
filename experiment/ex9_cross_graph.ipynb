{
 "cells": [
  {
   "cell_type": "code",
   "execution_count": 7,
   "id": "initial_id",
   "metadata": {
    "collapsed": true,
    "ExecuteTime": {
     "end_time": "2024-03-27T03:00:09.563606800Z",
     "start_time": "2024-03-27T03:00:09.554625500Z"
    }
   },
   "outputs": [],
   "source": [
    "from experiment_util.parms_tune import Params, BestScoreParamRecorder, search_grid_generator\n",
    "from model.local_graph import kLocalGraph, load_local_graph\n",
    "from experiment_util.cross_graph import load_node_name, emb_evaluate\n",
    "from model.AMKS.amks import MultiHopAMKS\n",
    "import numpy as np\n",
    "from running.log import get_logger\n",
    "\n",
    "import datetime\n",
    "from tqdm import tqdm"
   ]
  },
  {
   "cell_type": "code",
   "execution_count": 8,
   "outputs": [],
   "source": [
    "class CurParams(Params):\n",
    "    def __init__(self) -> None:\n",
    "        super().__init__()\n",
    "        self._hop = None\n",
    "        self._sigma = None\n",
    "        self._step = None\n",
    "\n",
    "    def update(self, other):\n",
    "        self._hop = other._hop\n",
    "        self._sigma = other._sigma\n",
    "        self._step = other._step\n",
    "\n",
    "    def to_str(self):\n",
    "        return f\"step:{self._step}_sigma:{self._sigma}_hop:{self._hop}\""
   ],
   "metadata": {
    "collapsed": false,
    "ExecuteTime": {
     "end_time": "2024-03-27T03:00:11.397008900Z",
     "start_time": "2024-03-27T03:00:09.563032800Z"
    }
   },
   "id": "86fc83315a70c1fb"
  },
  {
   "cell_type": "code",
   "execution_count": 9,
   "outputs": [],
   "source": [
    "graph_name_one = kLocalGraph.sigmod\n",
    "graph_name_two = kLocalGraph.icde\n",
    "\n",
    "graph_one = load_local_graph(graph_name_one)\n",
    "graph_one_node_name = load_node_name(graph_one)\n",
    "\n",
    "graph_two = load_local_graph(graph_name_two)\n",
    "graph_two_node_name = load_node_name(graph_two)"
   ],
   "metadata": {
    "collapsed": false,
    "ExecuteTime": {
     "end_time": "2024-03-27T03:00:11.900369800Z",
     "start_time": "2024-03-27T03:00:11.398673100Z"
    }
   },
   "id": "a530194cbc50994"
  },
  {
   "cell_type": "code",
   "execution_count": 10,
   "outputs": [],
   "source": [
    "common_node_name = set([k for k in graph_one_node_name if graph_one_node_name[k] in graph_one]).intersection(\n",
    "    set([k for k in graph_two_node_name if graph_two_node_name[k] in graph_two]))\n",
    "graph_one_common_id = [graph_one_node_name[name] for name in sorted(common_node_name)]\n",
    "graph_two_common_id = [graph_two_node_name[name] for name in sorted(common_node_name)]"
   ],
   "metadata": {
    "collapsed": false,
    "ExecuteTime": {
     "end_time": "2024-03-27T03:00:12.044271900Z",
     "start_time": "2024-03-27T03:00:11.902455800Z"
    }
   },
   "id": "1aabf86b525d3683"
  },
  {
   "cell_type": "code",
   "execution_count": 11,
   "outputs": [],
   "source": [
    "embed_model_one = MultiHopAMKS()\n",
    "embed_model_two = MultiHopAMKS()\n",
    "\n",
    "embed_model_one.set_g(graph_one)\n",
    "embed_model_two.set_g(graph_two)\n",
    "\n",
    "time = 0.3\n",
    "embed_model_one.set_time(time)\n",
    "embed_model_two.set_time(time)\n",
    "\n",
    "max_hop = 5\n",
    "sigma = 0.4\n",
    "step = 30\n",
    "\n",
    "sigma_range = np.linspace(0, 5, 20)[1:]\n",
    "hop_range = list(range(0, 6))\n",
    "step_range = list(range(3, 30, 3))\n",
    "k_list = [20, 40]  # Top-k "
   ],
   "metadata": {
    "collapsed": false,
    "ExecuteTime": {
     "end_time": "2024-03-27T03:00:12.158696800Z",
     "start_time": "2024-03-27T03:00:12.046093400Z"
    }
   },
   "id": "367a46c05914bb9f"
  },
  {
   "cell_type": "code",
   "execution_count": 12,
   "outputs": [],
   "source": [
    "recorder_20 = BestScoreParamRecorder(CurParams(), -1, \"Top\" + str(k_list[0]))\n",
    "recorder_40 = BestScoreParamRecorder(CurParams(), -1, \"Top\" + str(k_list[1]))\n",
    "params = CurParams()\n",
    "logger = get_logger(\"cross_graph_AMKS:\" + graph_name_one.value + '-' + graph_name_two.value)\n",
    "logger.info(\"time = \" + str(time))\n",
    "\n",
    "logger.info(\"sigma_range:{}\".format(sigma_range))\n",
    "logger.info(\"hop_range:{}\".format(hop_range))\n",
    "logger.info(\"step_range:{}\".format(step_range))"
   ],
   "metadata": {
    "collapsed": false,
    "ExecuteTime": {
     "end_time": "2024-03-27T03:00:12.239065300Z",
     "start_time": "2024-03-27T03:00:12.157556700Z"
    }
   },
   "id": "9303b48b0d1f502a"
  },
  {
   "cell_type": "code",
   "execution_count": 13,
   "outputs": [
    {
     "name": "stderr",
     "output_type": "stream",
     "text": [
      "  1%|          | 7/1026 [05:59<14:31:27, 51.31s/it]\n"
     ]
    },
    {
     "ename": "KeyboardInterrupt",
     "evalue": "",
     "output_type": "error",
     "traceback": [
      "\u001B[0;31m---------------------------------------------------------------------------\u001B[0m",
      "\u001B[0;31mKeyboardInterrupt\u001B[0m                         Traceback (most recent call last)",
      "\u001B[0;32m/tmp/ipykernel_28763/1904653280.py\u001B[0m in \u001B[0;36m<module>\u001B[0;34m\u001B[0m\n\u001B[1;32m     15\u001B[0m     \u001B[0membed_model_two\u001B[0m\u001B[0;34m.\u001B[0m\u001B[0mset_sigma\u001B[0m\u001B[0;34m(\u001B[0m\u001B[0msigma\u001B[0m\u001B[0;34m)\u001B[0m\u001B[0;34m\u001B[0m\u001B[0;34m\u001B[0m\u001B[0m\n\u001B[1;32m     16\u001B[0m     \u001B[0membed_model_two\u001B[0m\u001B[0;34m.\u001B[0m\u001B[0mset_step\u001B[0m\u001B[0;34m(\u001B[0m\u001B[0mstep\u001B[0m\u001B[0;34m)\u001B[0m\u001B[0;34m\u001B[0m\u001B[0;34m\u001B[0m\u001B[0m\n\u001B[0;32m---> 17\u001B[0;31m     \u001B[0membed_model_two\u001B[0m\u001B[0;34m.\u001B[0m\u001B[0mcompute_emb_vec\u001B[0m\u001B[0;34m(\u001B[0m\u001B[0;34m)\u001B[0m\u001B[0;34m\u001B[0m\u001B[0;34m\u001B[0m\u001B[0m\n\u001B[0m\u001B[1;32m     18\u001B[0m     \u001B[0mgraph_two_embed_vec\u001B[0m \u001B[0;34m=\u001B[0m \u001B[0membed_model_two\u001B[0m\u001B[0;34m.\u001B[0m\u001B[0mget_embedding_vec\u001B[0m\u001B[0;34m(\u001B[0m\u001B[0mgraph_two_common_id\u001B[0m\u001B[0;34m)\u001B[0m  \u001B[0;31m# sorted(graph_two_common_id)\u001B[0m\u001B[0;34m\u001B[0m\u001B[0;34m\u001B[0m\u001B[0m\n\u001B[1;32m     19\u001B[0m \u001B[0;34m\u001B[0m\u001B[0m\n",
      "\u001B[0;32m~/project2/Graph_Embedding_Ex1/src/model/AMKS/amks.py\u001B[0m in \u001B[0;36mcompute_emb_vec\u001B[0;34m(self)\u001B[0m\n\u001B[1;32m     71\u001B[0m \u001B[0;34m\u001B[0m\u001B[0m\n\u001B[1;32m     72\u001B[0m     \u001B[0;32mdef\u001B[0m \u001B[0mcompute_emb_vec\u001B[0m\u001B[0;34m(\u001B[0m\u001B[0mself\u001B[0m\u001B[0;34m)\u001B[0m\u001B[0;34m:\u001B[0m\u001B[0;34m\u001B[0m\u001B[0;34m\u001B[0m\u001B[0m\n\u001B[0;32m---> 73\u001B[0;31m         \u001B[0msuper\u001B[0m\u001B[0;34m(\u001B[0m\u001B[0;34m)\u001B[0m\u001B[0;34m.\u001B[0m\u001B[0mcompute_emb_vec\u001B[0m\u001B[0;34m(\u001B[0m\u001B[0;34m)\u001B[0m\u001B[0;34m\u001B[0m\u001B[0;34m\u001B[0m\u001B[0m\n\u001B[0m\u001B[1;32m     74\u001B[0m         \u001B[0mself\u001B[0m\u001B[0;34m.\u001B[0m\u001B[0mcompute_multihop_amks\u001B[0m\u001B[0;34m(\u001B[0m\u001B[0;34m)\u001B[0m\u001B[0;34m\u001B[0m\u001B[0;34m\u001B[0m\u001B[0m\n",
      "\u001B[0;32m~/project2/Graph_Embedding_Ex1/src/model/AMKS/amks.py\u001B[0m in \u001B[0;36mcompute_emb_vec\u001B[0;34m(self)\u001B[0m\n\u001B[1;32m     30\u001B[0m         \u001B[0mself\u001B[0m\u001B[0;34m.\u001B[0m\u001B[0m_reindex_dict\u001B[0m \u001B[0;34m=\u001B[0m \u001B[0mreinedex_dict\u001B[0m\u001B[0;34m\u001B[0m\u001B[0;34m\u001B[0m\u001B[0m\n\u001B[1;32m     31\u001B[0m         \u001B[0mP\u001B[0m \u001B[0;34m=\u001B[0m \u001B[0;32mNone\u001B[0m\u001B[0;34m\u001B[0m\u001B[0;34m\u001B[0m\u001B[0m\n\u001B[0;32m---> 32\u001B[0;31m         \u001B[0mself\u001B[0m\u001B[0;34m.\u001B[0m\u001B[0m_embedding_vec\u001B[0m \u001B[0;34m=\u001B[0m \u001B[0mcompute_amks\u001B[0m\u001B[0;34m(\u001B[0m\u001B[0meigenvalues\u001B[0m\u001B[0;34m,\u001B[0m \u001B[0meigenvectors\u001B[0m\u001B[0;34m,\u001B[0m \u001B[0mP\u001B[0m\u001B[0;34m,\u001B[0m \u001B[0mself\u001B[0m\u001B[0;34m.\u001B[0m\u001B[0m_sigma\u001B[0m\u001B[0;34m,\u001B[0m \u001B[0mself\u001B[0m\u001B[0;34m.\u001B[0m\u001B[0m_step\u001B[0m\u001B[0;34m,\u001B[0m \u001B[0mself\u001B[0m\u001B[0;34m.\u001B[0m\u001B[0m_time\u001B[0m\u001B[0;34m)\u001B[0m\u001B[0;34m\u001B[0m\u001B[0;34m\u001B[0m\u001B[0m\n\u001B[0m\u001B[1;32m     33\u001B[0m \u001B[0;34m\u001B[0m\u001B[0m\n\u001B[1;32m     34\u001B[0m     \u001B[0;32mdef\u001B[0m \u001B[0mget_embedding_vec\u001B[0m\u001B[0;34m(\u001B[0m\u001B[0mself\u001B[0m\u001B[0;34m,\u001B[0m \u001B[0mindex_list\u001B[0m\u001B[0;34m)\u001B[0m\u001B[0;34m:\u001B[0m\u001B[0;34m\u001B[0m\u001B[0;34m\u001B[0m\u001B[0m\n",
      "\u001B[0;32m~/project2/Graph_Embedding_Ex1/src/model/utils.py\u001B[0m in \u001B[0;36mcompute_amks\u001B[0;34m(eigenvalue, eigenvector, P, amks_variance, desc_size, time, conv_kernel_fn)\u001B[0m\n\u001B[1;32m     84\u001B[0m     \u001B[0msigma\u001B[0m \u001B[0;34m=\u001B[0m \u001B[0mmax\u001B[0m\u001B[0;34m(\u001B[0m\u001B[0;34m(\u001B[0m\u001B[0mmu_s\u001B[0m\u001B[0;34m[\u001B[0m\u001B[0;36m1\u001B[0m\u001B[0;34m]\u001B[0m \u001B[0;34m-\u001B[0m \u001B[0mmu_s\u001B[0m\u001B[0;34m[\u001B[0m\u001B[0;36m0\u001B[0m\u001B[0;34m]\u001B[0m\u001B[0;34m)\u001B[0m \u001B[0;34m*\u001B[0m \u001B[0mamks_variance\u001B[0m\u001B[0;34m,\u001B[0m \u001B[0;36m1e-3\u001B[0m\u001B[0;34m)\u001B[0m\u001B[0;34m\u001B[0m\u001B[0;34m\u001B[0m\u001B[0m\n\u001B[1;32m     85\u001B[0m \u001B[0;34m\u001B[0m\u001B[0m\n\u001B[0;32m---> 86\u001B[0;31m     \u001B[0mamks_embedding_vector\u001B[0m \u001B[0;34m=\u001B[0m \u001B[0mcal_amks\u001B[0m\u001B[0;34m(\u001B[0m\u001B[0meigenvalue\u001B[0m\u001B[0;34m,\u001B[0m \u001B[0meigenvector\u001B[0m\u001B[0;34m,\u001B[0m \u001B[0mP\u001B[0m\u001B[0;34m,\u001B[0m \u001B[0msigma\u001B[0m\u001B[0;34m,\u001B[0m \u001B[0mdesc_size\u001B[0m\u001B[0;34m,\u001B[0m \u001B[0mlog_eigenvalue\u001B[0m\u001B[0;34m,\u001B[0m \u001B[0mmu_s\u001B[0m\u001B[0;34m,\u001B[0m \u001B[0mtime\u001B[0m\u001B[0;34m)\u001B[0m\u001B[0;34m\u001B[0m\u001B[0;34m\u001B[0m\u001B[0m\n\u001B[0m\u001B[1;32m     87\u001B[0m     \u001B[0;32mreturn\u001B[0m \u001B[0mamks_embedding_vector\u001B[0m\u001B[0;34m\u001B[0m\u001B[0;34m\u001B[0m\u001B[0m\n\u001B[1;32m     88\u001B[0m \u001B[0;34m\u001B[0m\u001B[0m\n",
      "\u001B[0;32m~/project2/Graph_Embedding_Ex1/src/model/utils.py\u001B[0m in \u001B[0;36mcal_amks\u001B[0;34m(eigenvalues, eigenvectors, P, sigma, desc_size, log_eigenvalue, mu_s, time)\u001B[0m\n\u001B[1;32m     38\u001B[0m         \u001B[0mtemp\u001B[0m \u001B[0;34m=\u001B[0m \u001B[0mnp\u001B[0m\u001B[0;34m.\u001B[0m\u001B[0msum\u001B[0m\u001B[0;34m(\u001B[0m\u001B[0mnp\u001B[0m\u001B[0;34m.\u001B[0m\u001B[0mtriu\u001B[0m\u001B[0;34m(\u001B[0m\u001B[0mF2\u001B[0m\u001B[0;34m)\u001B[0m\u001B[0;34m)\u001B[0m  \u001B[0;31m# triu 取上三角矩阵，求和得到一个标量\u001B[0m\u001B[0;34m\u001B[0m\u001B[0;34m\u001B[0m\u001B[0m\n\u001B[1;32m     39\u001B[0m         \u001B[0mF\u001B[0m \u001B[0;34m=\u001B[0m \u001B[0mF1\u001B[0m \u001B[0;34m*\u001B[0m \u001B[0mF2\u001B[0m \u001B[0;34m/\u001B[0m \u001B[0mtemp\u001B[0m\u001B[0;34m\u001B[0m\u001B[0;34m\u001B[0m\u001B[0m\n\u001B[0;32m---> 40\u001B[0;31m         \u001B[0mtemp_vec\u001B[0m \u001B[0;34m=\u001B[0m \u001B[0mP\u001B[0m\u001B[0;34m.\u001B[0m\u001B[0mT\u001B[0m \u001B[0;34m*\u001B[0m \u001B[0;34m(\u001B[0m\u001B[0mP\u001B[0m \u001B[0;34m@\u001B[0m \u001B[0mF\u001B[0m\u001B[0;34m)\u001B[0m\u001B[0;34m.\u001B[0m\u001B[0mT\u001B[0m  \u001B[0;31m# 点积，既对应位置元素相乘\u001B[0m\u001B[0;34m\u001B[0m\u001B[0;34m\u001B[0m\u001B[0m\n\u001B[0m\u001B[1;32m     41\u001B[0m         \u001B[0mtemp_vec\u001B[0m \u001B[0;34m=\u001B[0m \u001B[0mnp\u001B[0m\u001B[0;34m.\u001B[0m\u001B[0msum\u001B[0m\u001B[0;34m(\u001B[0m\u001B[0mtemp_vec\u001B[0m\u001B[0;34m,\u001B[0m \u001B[0maxis\u001B[0m\u001B[0;34m=\u001B[0m\u001B[0;36m0\u001B[0m\u001B[0;34m)\u001B[0m  \u001B[0;31m# 每一列的行相加，得到一个行向量\u001B[0m\u001B[0;34m\u001B[0m\u001B[0;34m\u001B[0m\u001B[0m\n\u001B[1;32m     42\u001B[0m         \u001B[0mamks_embedding_vectors\u001B[0m\u001B[0;34m[\u001B[0m\u001B[0;34m:\u001B[0m\u001B[0;34m,\u001B[0m \u001B[0mi\u001B[0m\u001B[0;34m]\u001B[0m \u001B[0;34m=\u001B[0m \u001B[0mtemp_vec\u001B[0m\u001B[0;34m\u001B[0m\u001B[0;34m\u001B[0m\u001B[0m\n",
      "\u001B[0;31mKeyboardInterrupt\u001B[0m: "
     ]
    }
   ],
   "source": [
    "start_time = datetime.datetime.now()\n",
    "for sigma, hop, step in tqdm(list(search_grid_generator(sigma_range, hop_range, step_range))):\n",
    "    params._hop = hop\n",
    "    params._sigma = sigma\n",
    "    params._step = step\n",
    "\n",
    "    embed_model_one.set_maxhop(hop)\n",
    "    embed_model_one.set_sigma(sigma)\n",
    "    embed_model_one.set_step(step)\n",
    "    embed_model_one.compute_emb_vec()\n",
    "    graph_one_embed_vec = embed_model_one.get_embedding_vec(\n",
    "        graph_one_common_id)  # 原版本：sorted(graph_one_common_id) ，不应该对id排序。\n",
    "\n",
    "    embed_model_two.set_maxhop(hop)\n",
    "    embed_model_two.set_sigma(sigma)\n",
    "    embed_model_two.set_step(step)\n",
    "    embed_model_two.compute_emb_vec()\n",
    "    graph_two_embed_vec = embed_model_two.get_embedding_vec(graph_two_common_id)  # sorted(graph_two_common_id)\n",
    "\n",
    "    ans = emb_evaluate(graph_one_embed_vec, graph_two_embed_vec, k_list)\n",
    "    top_20_score = ans[k_list[0]]\n",
    "    top_40_score = ans[k_list[1]]\n",
    "\n",
    "    recorder_20.update_params(params, top_20_score, logger)\n",
    "    recorder_40.update_params(params, top_40_score, logger)\n",
    "\n",
    "time_spent = datetime.datetime.now() - start_time\n",
    "min = time_spent.seconds // 60\n",
    "sec = time_spent.seconds % 60\n",
    "logger.info(\"time spent: \" + str(min) + \" min\" + str(sec) + \" s\")"
   ],
   "metadata": {
    "collapsed": false,
    "ExecuteTime": {
     "end_time": "2024-03-27T03:06:13.964180300Z",
     "start_time": "2024-03-27T03:00:12.242263500Z"
    }
   },
   "id": "89810109ab3b814e"
  }
 ],
 "metadata": {
  "kernelspec": {
   "name": "hsh",
   "language": "python",
   "display_name": "HSH"
  },
  "language_info": {
   "codemirror_mode": {
    "name": "ipython",
    "version": 2
   },
   "file_extension": ".py",
   "mimetype": "text/x-python",
   "name": "python",
   "nbconvert_exporter": "python",
   "pygments_lexer": "ipython2",
   "version": "2.7.6"
  }
 },
 "nbformat": 4,
 "nbformat_minor": 5
}
