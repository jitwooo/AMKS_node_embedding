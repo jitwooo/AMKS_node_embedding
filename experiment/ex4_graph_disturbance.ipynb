{
 "cells": [
  {
   "cell_type": "code",
   "execution_count": 64,
   "id": "initial_id",
   "metadata": {
    "collapsed": true,
    "ExecuteTime": {
     "end_time": "2024-05-09T16:30:01.416714100Z",
     "start_time": "2024-05-09T16:30:01.379700400Z"
    }
   },
   "outputs": [],
   "source": [
    "from model.synthetic_graph import load_fork_tree\n",
    "import networkx as nx\n",
    "import matplotlib.pyplot as plt\n",
    "import numpy as np\n",
    "from running import rw_directory\n",
    "import random\n",
    "from model.myGraph import MyGraph\n",
    "from model.AMKS.amks import AMKS\n",
    "from model.AMKS.amks import MultiHopAMKS\n",
    "from model.WKS.wks import WKS\n",
    "from running.log import get_logger\n",
    "from tqdm import tqdm\n",
    "from running.nodes_matching import is_Top_k\n",
    "from datetime import datetime"
   ]
  },
  {
   "cell_type": "code",
   "execution_count": 65,
   "outputs": [],
   "source": [
    "custom_style = {\n",
    "    'axes.prop_cycle': plt.cycler('color', ['red', 'green', 'blue']),\n",
    "    'lines.linewidth': 2,\n",
    "    'font.size': 12,\n",
    "    'font.family': 'times new roman',\n",
    "    'axes.facecolor': 'w',\n",
    "    'axes.edgecolor': 'black',\n",
    "    'axes.titlesize': 20,\n",
    "    'legend.fontsize': 10,\n",
    "    'axes.labelsize': 20,\n",
    "    'axes.linewidth':2,\n",
    "    'xtick.labelsize':12,\n",
    "    'ytick.labelsize':12\n",
    "}\n",
    "plt.style.use(custom_style)\n"
   ],
   "metadata": {
    "collapsed": false,
    "ExecuteTime": {
     "end_time": "2024-05-09T16:30:01.444305300Z",
     "start_time": "2024-05-09T16:30:01.420305500Z"
    }
   },
   "id": "3e474793c66c1328"
  },
  {
   "cell_type": "code",
   "execution_count": 66,
   "outputs": [],
   "source": [
    "def get_random_graphs(num_of_node, random_sequence):\n",
    "    \"\"\"生成随机图\"\"\"\n",
    "    # 确保可以生成图：度总和为偶数\n",
    "    if np.sum(random_sequence) % 2 != 0:\n",
    "        random_sequence[-1] += 1\n",
    "\n",
    "    g = nx.configuration_model(random_sequence)\n",
    "    g = nx.Graph(g)\n",
    "    g.remove_edges_from(nx.selfloop_edges(g))\n",
    "\n",
    "    degrees = dict(nx.degree(g))\n",
    "    # 找出联通分量\n",
    "    connected_components = [set(nodes) for nodes in nx.connected_components(g)]\n",
    "    # 连接所有分量\n",
    "    jointed_nodes = connected_components[0]\n",
    "    # 找出两个分量中度最小的节点，加边连接\n",
    "    for component in connected_components[1:]:\n",
    "        min_degree_jointed = min(jointed_nodes, key=lambda x: degrees[x])\n",
    "        min_degree_cur = min(component, key=lambda x: degrees[x])\n",
    "        jointed_nodes = jointed_nodes | component\n",
    "        g.add_edge(min_degree_jointed, min_degree_cur)\n",
    "        degrees[min_degree_jointed] += 1\n",
    "        degrees[min_degree_cur] += 1\n",
    "    return g\n"
   ],
   "metadata": {
    "collapsed": false,
    "ExecuteTime": {
     "end_time": "2024-05-09T16:30:01.461303800Z",
     "start_time": "2024-05-09T16:30:01.446304100Z"
    }
   },
   "id": "94d3538434aa3236"
  },
  {
   "cell_type": "code",
   "execution_count": 67,
   "outputs": [],
   "source": [
    "def get_center_stable_random_graph(center_graph, outer_layer_nodes, num_of_node):\n",
    "    \"\"\"将多叉树和随机图进行连接，生成新的大图\"\"\"\n",
    "    file_path = rw_directory.temp_file_path(4, \"uniqued_degree.npy\")\n",
    "    uniqued_degree = np.load(file_path)\n",
    "    file_path = rw_directory.temp_file_path(4, \"degree_prob.npy\")\n",
    "    degree_prob = np.load(file_path)\n",
    "    random_sequence = np.random.choice(uniqued_degree, p=degree_prob, size=len(outer_layer_nodes))\n",
    "    outer_graph = get_random_graphs(num_of_node, random_sequence)\n",
    "\n",
    "    offset = max(center_graph) + 1\n",
    "    # 重新为随机图节点标注序号\n",
    "    outer_graph = nx.relabel_nodes(outer_graph, {origin: origin + offset for origin in outer_graph.nodes})\n",
    "    extra_edges = []\n",
    "\n",
    "    # 随机连接多叉树的叶子节点和随机图的节点\n",
    "    for node, degree in zip(outer_layer_nodes, random_sequence):\n",
    "        if degree - 1 <= len(outer_graph.nodes):\n",
    "            selected_nodes = random.sample(outer_graph.nodes, degree - 1)\n",
    "            extra_edges.extend([(node, selected_node) for selected_node in selected_nodes])\n",
    "\n",
    "    g = MyGraph()\n",
    "    g.add_edges_from(center_graph.edges)\n",
    "    g.add_edges_from(outer_graph.edges)\n",
    "    # print(extra_edges)\n",
    "    g.add_edges_from(extra_edges)\n",
    "    return g\n"
   ],
   "metadata": {
    "collapsed": false,
    "ExecuteTime": {
     "end_time": "2024-05-09T16:30:01.462304700Z",
     "start_time": "2024-05-09T16:30:01.452305400Z"
    }
   },
   "id": "661e309861ec0d9"
  },
  {
   "cell_type": "code",
   "execution_count": 68,
   "outputs": [],
   "source": [
    "def compute_Tok(model_arg=3, times=100, index_list=None, k_list=None):\n",
    "    # 随机生成图1：中心区域为多叉树图\n",
    "    if k_list is None:\n",
    "        k_list = [5, 10, 20]\n",
    "    if index_list is None:\n",
    "        index_list = [i for i in range(14)]\n",
    "    center_graph, level_nodes = load_fork_tree([1, 4, 2, 2])\n",
    "    center_graph.set_graph_tag(\"center_graph1422\")\n",
    "\n",
    "    # pos = nx.layout.kamada_kawai_layout(center_graph,scale=2)\n",
    "    # nx.draw_networkx(center_graph, pos=pos)\n",
    "    # plt.show()\n",
    "\n",
    "    multiplier = 3\n",
    "    outer_nodes = np.array(level_nodes[-1]).flatten().tolist()\n",
    "\n",
    "    # print(outer_nodes)\n",
    "\n",
    "    g = get_center_stable_random_graph(center_graph, outer_nodes, len(center_graph) * multiplier)\n",
    "    tag_name = \"center_stable_random_graph\" + str(multiplier)\n",
    "    g.set_graph_tag(tag_name)\n",
    "\n",
    "    # pos = nx.layout.kamada_kawai_layout(g, scale=2)\n",
    "    # nx.draw_networkx(g,pos=pos)\n",
    "    # plt.show() \n",
    "\n",
    "    sigma = 1\n",
    "    step = 4\n",
    "    time = 0.2\n",
    "    hop = 2\n",
    "    model_name = \"\"\n",
    "\n",
    "    if model_arg == 2:\n",
    "        model_name = \"WKS: \"\n",
    "        embed_model_one = WKS()\n",
    "        embed_model_two = WKS()\n",
    "    elif model_arg == 0:\n",
    "        model_name = \"AMKS: \"\n",
    "        embed_model_one = AMKS()\n",
    "        embed_model_one.set_time(time)\n",
    "        embed_model_two = AMKS()\n",
    "        embed_model_two.set_time(time)\n",
    "    else:\n",
    "        model_name = \"NA-AMKS: \"\n",
    "        embed_model_one = MultiHopAMKS()\n",
    "        embed_model_one.set_maxhop(hop)\n",
    "        embed_model_one.set_time(time)\n",
    "        embed_model_two = MultiHopAMKS()\n",
    "        embed_model_two.set_time(time)\n",
    "        embed_model_two.set_maxhop(hop)\n",
    "\n",
    "    embed_model_one.set_g(g)\n",
    "    embed_model_one.set_sigma(sigma)\n",
    "    embed_model_one.set_step(step)\n",
    "    embed_model_one.compute_emb_vec()\n",
    "    graph_one_embed_vec = embed_model_one.get_embedding_vec(sorted(g.nodes))\n",
    "\n",
    "    embed_model_two.set_sigma(sigma)\n",
    "    embed_model_two.set_step(step)\n",
    "\n",
    "    logger = get_logger(\"ex4:\" + model_name)\n",
    "    logger.info(model_name + tag_name)\n",
    "    logger.info(\"sigma =\" + str(sigma))\n",
    "    logger.info(\"hop =\" + str(hop))\n",
    "    logger.info(\"step =\" + str(step))\n",
    "    logger.info(\"time =\" + str(time))\n",
    "\n",
    "    hit_num = {k: {} for k in k_list}\n",
    "    for index in index_list:\n",
    "        for k in k_list:\n",
    "            hit_num[k][index] = 0\n",
    "\n",
    "    for i in tqdm(list(range(times))):\n",
    "        # 随机生成图1：中心区域为多叉树图\n",
    "        temp_g = get_center_stable_random_graph(center_graph, outer_nodes, len(center_graph) * multiplier)\n",
    "        tag_name = \"center_stable_random_graph_\" + str(i)\n",
    "\n",
    "        # 随机图生成2：中心区域为蜘蛛网图\n",
    "        # temp_g = create_graph()  \n",
    "        # temp_g = MyGraph(temp_g)\n",
    "        # tag_name = \"random_ \"+str(i)\n",
    "\n",
    "        temp_g.set_graph_tag(tag_name)\n",
    "        embed_model_two.set_g(temp_g)\n",
    "        embed_model_two.compute_emb_vec()\n",
    "        graph_two_embed_vec = embed_model_two.get_embedding_vec(sorted(temp_g.nodes))\n",
    "\n",
    "        ans = is_Top_k(graph_one_embed_vec, graph_two_embed_vec, index_list, k_list)\n",
    "        for index in index_list:\n",
    "            for k in k_list:\n",
    "                hit_num[k][index] += ans[k][index][0]\n",
    "\n",
    "    for index in index_list:\n",
    "        logger.info(\"node: \" + str(index))\n",
    "        for k in k_list:\n",
    "            logger.info(\"Top \" + str(k) + \" Score = \" + str(hit_num[k][index] / times))\n",
    "            print(\"Top \" + str(k) + \" Score = \" + str(hit_num[k][index] / times))\n",
    "\n",
    "    return [[hit_num[k][index] / times for index in index_list] for k in k_list]\n"
   ],
   "metadata": {
    "collapsed": false,
    "ExecuteTime": {
     "end_time": "2024-05-09T16:30:01.471305100Z",
     "start_time": "2024-05-09T16:30:01.466304800Z"
    }
   },
   "id": "5e2d1054c12ab235"
  },
  {
   "cell_type": "code",
   "execution_count": 69,
   "outputs": [],
   "source": [
    "def show_answer_bar(model_ans, node_list=None, k=5):\n",
    "    if node_list is None:\n",
    "        node_list = list(range(0, 14))\n",
    "    bar_width = 0.20\n",
    "    # index = range(0, 3)\n",
    "    index = range(0, 2)\n",
    "    pos = np.arange(len(node_list))\n",
    "    labels = ['AMKS', 'NA-AMKS', 'WKS']\n",
    "    colors = ['orange', 'royalblue', 'lightseagreen']\n",
    "\n",
    "    for i in index:\n",
    "        plt.bar(pos + bar_width * (i + 1), model_ans[i], width=bar_width, color=colors[i], label=labels[i])\n",
    "    # plt.legend(('WKS', 'AMKS', 'NA-AMKS'), loc='upper center', bbox_to_anchor=(0.5, 1.12), ncol=3)\n",
    "    # plt.legend(('AMKS', 'NA-AMKS'), loc='upper center', bbox_to_anchor=(0.5, 1.12), ncol=2)\n",
    "    plt.legend()\n",
    "    plt.xticks(pos + bar_width * 4 / 2, node_list)  # x轴的刻度\n",
    "    # plt.rcParams['font.family'] = 'YaHei Consolas Hybrid'  # 中文\n",
    "    plt.rcParams[\"axes.unicode_minus\"] = False\n",
    "    # text0 = \"Top_\"+str(k)\n",
    "    # plt.xlabel(text0)\n",
    "    ## plt.title(text0)\n",
    "    ## plt.text(6.5, -0.2, text0,  ha='center',va = 'center', fontsize=12)\n",
    "    file_name = rw_directory.result_path(4, \"RandomTop_\" + str(k) + '_' + str(datetime.now()) + \".pdf\")\n",
    "    plt.savefig(file_name, bbox_inches='tight', pad_inches=0.2)\n",
    "    plt.show()"
   ],
   "metadata": {
    "collapsed": false,
    "ExecuteTime": {
     "end_time": "2024-05-09T16:30:01.519305300Z",
     "start_time": "2024-05-09T16:30:01.472304200Z"
    }
   },
   "id": "77580f40b1f68caf"
  },
  {
   "cell_type": "code",
   "execution_count": 70,
   "outputs": [],
   "source": [
    "def show_answer(model_ans, node_list=None, k=5):\n",
    "    if node_list is None:\n",
    "        node_list = list(range(0, 14))\n",
    "\n",
    "    # index = range(0, 3)\n",
    "    index = range(0, 2)\n",
    "    pos = np.arange(len(node_list))\n",
    "    labels = ['AMKS', 'NA-AMKS', 'WKS']\n",
    "    colors = ['orange', 'royalblue', 'lightseagreen']\n",
    "\n",
    "    for i in index:\n",
    "        plt.plot(pos, model_ans[i], marker='o', c=colors[i], label=labels[i])\n",
    "    # plt.legend(('WKS', 'AMKS', 'NA-AMKS'), loc='upper center', bbox_to_anchor=(0.5, 1.12), ncol=3)\n",
    "    # plt.legend(('AMKS', 'NA-AMKS'), loc='upper center', bbox_to_anchor=(0.5, 1.12), ncol=2)\n",
    "    plt.ylim((0.0, 1.1))\n",
    "    plt.xlabel('Node index')\n",
    "    plt.ylabel('Hit rate')\n",
    "    \n",
    "    plt.title(f\"Top-{k}\")\n",
    "    plt.legend()\n",
    "    # plt.xticks(pos + bar_width * 6 / 2, node_list)  # x轴的刻度\n",
    "    # plt.rcParams['font.family'] = 'YaHei Consolas Hybrid'  # 中文\n",
    "    plt.rcParams[\"axes.unicode_minus\"] = False\n",
    "    plt.grid()\n",
    "    # text0 = \"Top_\"+str(k)\n",
    "    # plt.xlabel(text0)\n",
    "    ## plt.title(text0)\n",
    "    ## plt.text(6.5, -0.2, text0,  ha='center',va = 'center', fontsize=12)\n",
    "    file_name = rw_directory.result_path(4, \"RandomTop_\" + str(k) + '_' + str(datetime.now()) + \".pdf\")\n",
    "    plt.savefig(file_name, bbox_inches='tight', pad_inches=0.2)\n",
    "    plt.show()"
   ],
   "metadata": {
    "collapsed": false,
    "ExecuteTime": {
     "end_time": "2024-05-09T16:30:01.520817400Z",
     "start_time": "2024-05-09T16:30:01.481305500Z"
    }
   },
   "id": "91e1918967dd997"
  },
  {
   "cell_type": "code",
   "execution_count": 71,
   "outputs": [],
   "source": [
    "def test():\n",
    "    # model_list = ['AMKS', 'NA-AMKS', 'WKS']\n",
    "    model_list = ['AMKS', 'NA-AMKS']\n",
    "    node_list = [i for i in range(6)]\n",
    "\n",
    "    k_list = [5, 10, 20]\n",
    "    hit_num = [0] * len(model_list)\n",
    "    # 计算各个模型的嵌入效果\n",
    "    for i in range(len(model_list)):\n",
    "        hit_num[i] = compute_Tok(model_arg=i, times=100, index_list=node_list, k_list=k_list)\n",
    "    # 展示\n",
    "    for k_index in range(len(k_list)):\n",
    "        # 0:AMKS, 1:'NA-AMKS', 2:WKS\n",
    "        model_ans = {}\n",
    "        for i in range(len(model_list)):\n",
    "            model_ans[i] = hit_num[i][k_index]\n",
    "        print(model_ans)\n",
    "        show_answer(model_ans, node_list=node_list, k=k_list[k_index])\n",
    "        show_answer_bar(model_ans, node_list=node_list, k=k_list[k_index])"
   ],
   "metadata": {
    "collapsed": false,
    "ExecuteTime": {
     "end_time": "2024-05-09T16:30:01.521328700Z",
     "start_time": "2024-05-09T16:30:01.490307300Z"
    }
   },
   "id": "a5187c04c51353c2"
  },
  {
   "cell_type": "code",
   "execution_count": 72,
   "outputs": [
    {
     "name": "stderr",
     "output_type": "stream",
     "text": [
      "100%|██████████| 100/100 [00:00<00:00, 423.73it/s]\n",
      "  9%|▉         | 9/100 [00:00<00:01, 81.03it/s]"
     ]
    },
    {
     "name": "stdout",
     "output_type": "stream",
     "text": [
      "Top 5 Score = 0.95\n",
      "Top 10 Score = 1.0\n",
      "Top 20 Score = 1.0\n",
      "Top 5 Score = 0.5\n",
      "Top 10 Score = 0.73\n",
      "Top 20 Score = 0.87\n",
      "Top 5 Score = 0.26\n",
      "Top 10 Score = 0.65\n",
      "Top 20 Score = 0.98\n",
      "Top 5 Score = 0.19\n",
      "Top 10 Score = 0.67\n",
      "Top 20 Score = 0.99\n",
      "Top 5 Score = 0.25\n",
      "Top 10 Score = 0.67\n",
      "Top 20 Score = 0.99\n",
      "Top 5 Score = 0.3\n",
      "Top 10 Score = 0.68\n",
      "Top 20 Score = 0.99\n"
     ]
    },
    {
     "name": "stderr",
     "output_type": "stream",
     "text": [
      "100%|██████████| 100/100 [00:01<00:00, 80.43it/s]\n"
     ]
    },
    {
     "name": "stdout",
     "output_type": "stream",
     "text": [
      "Top 5 Score = 1.0\n",
      "Top 10 Score = 1.0\n",
      "Top 20 Score = 1.0\n",
      "Top 5 Score = 0.99\n",
      "Top 10 Score = 0.99\n",
      "Top 20 Score = 1.0\n",
      "Top 5 Score = 0.97\n",
      "Top 10 Score = 0.99\n",
      "Top 20 Score = 0.99\n",
      "Top 5 Score = 0.92\n",
      "Top 10 Score = 0.98\n",
      "Top 20 Score = 1.0\n",
      "Top 5 Score = 0.97\n",
      "Top 10 Score = 0.99\n",
      "Top 20 Score = 1.0\n",
      "Top 5 Score = 0.96\n",
      "Top 10 Score = 0.98\n",
      "Top 20 Score = 0.98\n",
      "{0: [0.95, 0.5, 0.26, 0.19, 0.25, 0.3], 1: [1.0, 0.99, 0.97, 0.92, 0.97, 0.96]}\n"
     ]
    },
    {
     "data": {
      "text/plain": "<Figure size 432x288 with 1 Axes>",
      "image/png": "[encoded data removed]"
     },
     "metadata": {
      "needs_background": "light"
     },
     "output_type": "display_data"
    },
    {
     "data": {
      "text/plain": "<Figure size 432x288 with 1 Axes>",
      "image/png": "[encoded data removed]"
     },
     "metadata": {
      "needs_background": "light"
     },
     "output_type": "display_data"
    },
    {
     "name": "stdout",
     "output_type": "stream",
     "text": [
      "{0: [1.0, 0.73, 0.65, 0.67, 0.67, 0.68], 1: [1.0, 0.99, 0.99, 0.98, 0.99, 0.98]}\n"
     ]
    },
    {
     "data": {
      "text/plain": "<Figure size 432x288 with 1 Axes>",
      "image/png": "[encoded data removed]"
     },
     "metadata": {
      "needs_background": "light"
     },
     "output_type": "display_data"
    },
    {
     "data": {
      "text/plain": "<Figure size 432x288 with 1 Axes>",
      "image/png": "[encoded data removed]"
     },
     "metadata": {
      "needs_background": "light"
     },
     "output_type": "display_data"
    },
    {
     "name": "stdout",
     "output_type": "stream",
     "text": [
      "{0: [1.0, 0.87, 0.98, 0.99, 0.99, 0.99], 1: [1.0, 1.0, 0.99, 1.0, 1.0, 0.98]}\n"
     ]
    },
    {
     "data": {
      "text/plain": "<Figure size 432x288 with 1 Axes>",
      "image/png": "[encoded data removed]"
     },
     "metadata": {
      "needs_background": "light"
     },
     "output_type": "display_data"
    },
    {
     "data": {
      "text/plain": "<Figure size 432x288 with 1 Axes>",
      "image/png": "[encoded data removed]"
     },
     "metadata": {
      "needs_background": "light"
     },
     "output_type": "display_data"
    }
   ],
   "source": [
    "test()"
   ],
   "metadata": {
    "collapsed": false,
    "ExecuteTime": {
     "end_time": "2024-05-09T16:30:03.782160300Z",
     "start_time": "2024-05-09T16:30:01.495306Z"
    }
   },
   "id": "54f83df6efc35b13"
  },
  {
   "cell_type": "code",
   "execution_count": 72,
   "outputs": [],
   "source": [],
   "metadata": {
    "collapsed": false,
    "ExecuteTime": {
     "end_time": "2024-05-09T16:30:03.827159800Z",
     "start_time": "2024-05-09T16:30:03.777156100Z"
    }
   },
   "id": "282c51450a620806"
  }
 ],
 "metadata": {
  "kernelspec": {
   "name": "hsh",
   "language": "python",
   "display_name": "HSH"
  },
  "language_info": {
   "codemirror_mode": {
    "name": "ipython",
    "version": 2
   },
   "file_extension": ".py",
   "mimetype": "text/x-python",
   "name": "python",
   "nbconvert_exporter": "python",
   "pygments_lexer": "ipython2",
   "version": "2.7.6"
  }
 },
 "nbformat": 4,
 "nbformat_minor": 5
}
